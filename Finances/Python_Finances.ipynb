{
  "nbformat": 4,
  "nbformat_minor": 0,
  "metadata": {
    "colab": {
      "name": "Python Finances.ipynb",
      "provenance": []
    },
    "kernelspec": {
      "name": "python3",
      "display_name": "Python 3"
    }
  },
  "cells": [
    {
      "cell_type": "code",
      "metadata": {
        "id": "E4qv9MykF_7W",
        "outputId": "63a9aa5b-410e-4ec6-bee5-16ebf2f20a86",
        "colab": {
          "base_uri": "https://localhost:8080/",
          "height": 248
        }
      },
      "source": [
        "import pandas as pd\n",
        "import matplotlib.pyplot as plt\n",
        "import datetime as dt\n",
        "import pandas_datareader.data as pdr\n",
        "import fix_yahoo_finance\n",
        "\n",
        "# importation de donnees de yahoo finance\n",
        "start=dt.datetime(2019,10,1)\n",
        "end=dt.datetime(2020,11,1)\n",
        "tickers=['AC.TO', 'INE.TO', 'BLX.TO']\n",
        "\n",
        "# OBTENIR EN DATAFRAME\n",
        "df=pdr.DataReader(tickers,'yahoo',start,end)\n",
        "df.head()"
      ],
      "execution_count": 1,
      "outputs": [
        {
          "output_type": "execute_result",
          "data": {
            "text/html": [
              "<div>\n",
              "<style scoped>\n",
              "    .dataframe tbody tr th:only-of-type {\n",
              "        vertical-align: middle;\n",
              "    }\n",
              "\n",
              "    .dataframe tbody tr th {\n",
              "        vertical-align: top;\n",
              "    }\n",
              "\n",
              "    .dataframe thead tr th {\n",
              "        text-align: left;\n",
              "    }\n",
              "\n",
              "    .dataframe thead tr:last-of-type th {\n",
              "        text-align: right;\n",
              "    }\n",
              "</style>\n",
              "<table border=\"1\" class=\"dataframe\">\n",
              "  <thead>\n",
              "    <tr>\n",
              "      <th>Attributes</th>\n",
              "      <th colspan=\"3\" halign=\"left\">Adj Close</th>\n",
              "      <th colspan=\"3\" halign=\"left\">Close</th>\n",
              "      <th colspan=\"3\" halign=\"left\">High</th>\n",
              "      <th colspan=\"3\" halign=\"left\">Low</th>\n",
              "      <th colspan=\"3\" halign=\"left\">Open</th>\n",
              "      <th colspan=\"3\" halign=\"left\">Volume</th>\n",
              "    </tr>\n",
              "    <tr>\n",
              "      <th>Symbols</th>\n",
              "      <th>AC.TO</th>\n",
              "      <th>INE.TO</th>\n",
              "      <th>BLX.TO</th>\n",
              "      <th>AC.TO</th>\n",
              "      <th>INE.TO</th>\n",
              "      <th>BLX.TO</th>\n",
              "      <th>AC.TO</th>\n",
              "      <th>INE.TO</th>\n",
              "      <th>BLX.TO</th>\n",
              "      <th>AC.TO</th>\n",
              "      <th>INE.TO</th>\n",
              "      <th>BLX.TO</th>\n",
              "      <th>AC.TO</th>\n",
              "      <th>INE.TO</th>\n",
              "      <th>BLX.TO</th>\n",
              "      <th>AC.TO</th>\n",
              "      <th>INE.TO</th>\n",
              "      <th>BLX.TO</th>\n",
              "    </tr>\n",
              "    <tr>\n",
              "      <th>Date</th>\n",
              "      <th></th>\n",
              "      <th></th>\n",
              "      <th></th>\n",
              "      <th></th>\n",
              "      <th></th>\n",
              "      <th></th>\n",
              "      <th></th>\n",
              "      <th></th>\n",
              "      <th></th>\n",
              "      <th></th>\n",
              "      <th></th>\n",
              "      <th></th>\n",
              "      <th></th>\n",
              "      <th></th>\n",
              "      <th></th>\n",
              "      <th></th>\n",
              "      <th></th>\n",
              "      <th></th>\n",
              "    </tr>\n",
              "  </thead>\n",
              "  <tbody>\n",
              "    <tr>\n",
              "      <th>2019-10-01</th>\n",
              "      <td>43.119999</td>\n",
              "      <td>14.739379</td>\n",
              "      <td>22.142057</td>\n",
              "      <td>43.119999</td>\n",
              "      <td>15.30</td>\n",
              "      <td>22.660000</td>\n",
              "      <td>44.130001</td>\n",
              "      <td>15.330000</td>\n",
              "      <td>22.780001</td>\n",
              "      <td>42.299999</td>\n",
              "      <td>15.09</td>\n",
              "      <td>22.559999</td>\n",
              "      <td>43.450001</td>\n",
              "      <td>15.30</td>\n",
              "      <td>22.680000</td>\n",
              "      <td>1401901.0</td>\n",
              "      <td>341800.0</td>\n",
              "      <td>217700.0</td>\n",
              "    </tr>\n",
              "    <tr>\n",
              "      <th>2019-10-02</th>\n",
              "      <td>42.540001</td>\n",
              "      <td>14.739379</td>\n",
              "      <td>21.868458</td>\n",
              "      <td>42.540001</td>\n",
              "      <td>15.30</td>\n",
              "      <td>22.379999</td>\n",
              "      <td>43.200001</td>\n",
              "      <td>15.400000</td>\n",
              "      <td>22.730000</td>\n",
              "      <td>41.799999</td>\n",
              "      <td>15.28</td>\n",
              "      <td>22.340000</td>\n",
              "      <td>42.779999</td>\n",
              "      <td>15.38</td>\n",
              "      <td>22.629999</td>\n",
              "      <td>1690844.0</td>\n",
              "      <td>255300.0</td>\n",
              "      <td>426200.0</td>\n",
              "    </tr>\n",
              "    <tr>\n",
              "      <th>2019-10-03</th>\n",
              "      <td>43.099998</td>\n",
              "      <td>14.787548</td>\n",
              "      <td>22.054113</td>\n",
              "      <td>43.099998</td>\n",
              "      <td>15.35</td>\n",
              "      <td>22.570000</td>\n",
              "      <td>43.119999</td>\n",
              "      <td>15.390000</td>\n",
              "      <td>22.620001</td>\n",
              "      <td>42.000000</td>\n",
              "      <td>15.26</td>\n",
              "      <td>22.309999</td>\n",
              "      <td>42.250000</td>\n",
              "      <td>15.30</td>\n",
              "      <td>22.350000</td>\n",
              "      <td>1001427.0</td>\n",
              "      <td>354300.0</td>\n",
              "      <td>252800.0</td>\n",
              "    </tr>\n",
              "    <tr>\n",
              "      <th>2019-10-04</th>\n",
              "      <td>43.270000</td>\n",
              "      <td>15.182524</td>\n",
              "      <td>22.200687</td>\n",
              "      <td>43.270000</td>\n",
              "      <td>15.76</td>\n",
              "      <td>22.719999</td>\n",
              "      <td>43.490002</td>\n",
              "      <td>15.780000</td>\n",
              "      <td>22.750000</td>\n",
              "      <td>42.799999</td>\n",
              "      <td>15.35</td>\n",
              "      <td>22.559999</td>\n",
              "      <td>43.270000</td>\n",
              "      <td>15.35</td>\n",
              "      <td>22.570000</td>\n",
              "      <td>606616.0</td>\n",
              "      <td>576400.0</td>\n",
              "      <td>241800.0</td>\n",
              "    </tr>\n",
              "    <tr>\n",
              "      <th>2019-10-07</th>\n",
              "      <td>43.240002</td>\n",
              "      <td>15.500432</td>\n",
              "      <td>22.298401</td>\n",
              "      <td>43.240002</td>\n",
              "      <td>16.09</td>\n",
              "      <td>22.820000</td>\n",
              "      <td>43.450001</td>\n",
              "      <td>16.110001</td>\n",
              "      <td>22.879999</td>\n",
              "      <td>42.860001</td>\n",
              "      <td>15.75</td>\n",
              "      <td>22.690001</td>\n",
              "      <td>43.119999</td>\n",
              "      <td>15.80</td>\n",
              "      <td>22.750000</td>\n",
              "      <td>592119.0</td>\n",
              "      <td>636300.0</td>\n",
              "      <td>236600.0</td>\n",
              "    </tr>\n",
              "  </tbody>\n",
              "</table>\n",
              "</div>"
            ],
            "text/plain": [
              "Attributes  Adj Close                        ...     Volume                    \n",
              "Symbols         AC.TO     INE.TO     BLX.TO  ...      AC.TO    INE.TO    BLX.TO\n",
              "Date                                         ...                               \n",
              "2019-10-01  43.119999  14.739379  22.142057  ...  1401901.0  341800.0  217700.0\n",
              "2019-10-02  42.540001  14.739379  21.868458  ...  1690844.0  255300.0  426200.0\n",
              "2019-10-03  43.099998  14.787548  22.054113  ...  1001427.0  354300.0  252800.0\n",
              "2019-10-04  43.270000  15.182524  22.200687  ...   606616.0  576400.0  241800.0\n",
              "2019-10-07  43.240002  15.500432  22.298401  ...   592119.0  636300.0  236600.0\n",
              "\n",
              "[5 rows x 18 columns]"
            ]
          },
          "metadata": {
            "tags": []
          },
          "execution_count": 1
        }
      ]
    },
    {
      "cell_type": "code",
      "metadata": {
        "id": "kKKrtU3fQXER",
        "outputId": "f123b1c0-5807-494b-881e-9f3cd5b6b2c9",
        "colab": {
          "base_uri": "https://localhost:8080/"
        }
      },
      "source": [
        "pip install yfinance"
      ],
      "execution_count": 2,
      "outputs": [
        {
          "output_type": "stream",
          "text": [
            "Collecting yfinance\n",
            "  Downloading https://files.pythonhosted.org/packages/7a/e8/b9d7104d3a4bf39924799067592d9e59119fcfc900a425a12e80a3123ec8/yfinance-0.1.55.tar.gz\n",
            "Requirement already satisfied: pandas>=0.24 in /usr/local/lib/python3.6/dist-packages (from yfinance) (1.1.4)\n",
            "Requirement already satisfied: numpy>=1.15 in /usr/local/lib/python3.6/dist-packages (from yfinance) (1.18.5)\n",
            "Requirement already satisfied: requests>=2.20 in /usr/local/lib/python3.6/dist-packages (from yfinance) (2.23.0)\n",
            "Requirement already satisfied: multitasking>=0.0.7 in /usr/local/lib/python3.6/dist-packages (from yfinance) (0.0.9)\n",
            "Collecting lxml>=4.5.1\n",
            "\u001b[?25l  Downloading https://files.pythonhosted.org/packages/64/28/0b761b64ecbd63d272ed0e7a6ae6e4402fc37886b59181bfdf274424d693/lxml-4.6.1-cp36-cp36m-manylinux1_x86_64.whl (5.5MB)\n",
            "\u001b[K     |████████████████████████████████| 5.5MB 6.3MB/s \n",
            "\u001b[?25hRequirement already satisfied: pytz>=2017.2 in /usr/local/lib/python3.6/dist-packages (from pandas>=0.24->yfinance) (2018.9)\n",
            "Requirement already satisfied: python-dateutil>=2.7.3 in /usr/local/lib/python3.6/dist-packages (from pandas>=0.24->yfinance) (2.8.1)\n",
            "Requirement already satisfied: chardet<4,>=3.0.2 in /usr/local/lib/python3.6/dist-packages (from requests>=2.20->yfinance) (3.0.4)\n",
            "Requirement already satisfied: certifi>=2017.4.17 in /usr/local/lib/python3.6/dist-packages (from requests>=2.20->yfinance) (2020.6.20)\n",
            "Requirement already satisfied: urllib3!=1.25.0,!=1.25.1,<1.26,>=1.21.1 in /usr/local/lib/python3.6/dist-packages (from requests>=2.20->yfinance) (1.24.3)\n",
            "Requirement already satisfied: idna<3,>=2.5 in /usr/local/lib/python3.6/dist-packages (from requests>=2.20->yfinance) (2.10)\n",
            "Requirement already satisfied: six>=1.5 in /usr/local/lib/python3.6/dist-packages (from python-dateutil>=2.7.3->pandas>=0.24->yfinance) (1.15.0)\n",
            "Building wheels for collected packages: yfinance\n",
            "  Building wheel for yfinance (setup.py) ... \u001b[?25l\u001b[?25hdone\n",
            "  Created wheel for yfinance: filename=yfinance-0.1.55-py2.py3-none-any.whl size=22618 sha256=f807ec87d7daf0904c951ee73ffbd4b1dfafb5fd14d47b9427a7f838960410ca\n",
            "  Stored in directory: /root/.cache/pip/wheels/04/98/cc/2702a4242d60bdc14f48b4557c427ded1fe92aedf257d4565c\n",
            "Successfully built yfinance\n",
            "Installing collected packages: lxml, yfinance\n",
            "  Found existing installation: lxml 4.2.6\n",
            "    Uninstalling lxml-4.2.6:\n",
            "      Successfully uninstalled lxml-4.2.6\n",
            "Successfully installed lxml-4.6.1 yfinance-0.1.55\n"
          ],
          "name": "stdout"
        }
      ]
    },
    {
      "cell_type": "code",
      "metadata": {
        "id": "ikJN8tuQLoWc",
        "outputId": "63e94793-be7b-426a-d920-3a8b191f3052",
        "colab": {
          "base_uri": "https://localhost:8080/",
          "height": 293
        }
      },
      "source": [
        "# df['Open'].plot()\n",
        "df['Close'].plot()"
      ],
      "execution_count": 3,
      "outputs": [
        {
          "output_type": "execute_result",
          "data": {
            "text/plain": [
              "<matplotlib.axes._subplots.AxesSubplot at 0x7fa94e280b38>"
            ]
          },
          "metadata": {
            "tags": []
          },
          "execution_count": 3
        },
        {
          "output_type": "display_data",
          "data": {
            "image/png": "[encoded data removed]",
            "text/plain": [
              "<Figure size 432x288 with 1 Axes>"
            ]
          },
          "metadata": {
            "tags": [],
            "needs_background": "light"
          }
        }
      ]
    }
  ]
}